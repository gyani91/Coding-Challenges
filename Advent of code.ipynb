{
 "cells": [
  {
   "cell_type": "markdown",
   "metadata": {},
   "source": [
    "# Day 1"
   ]
  },
  {
   "cell_type": "code",
   "execution_count": 4,
   "metadata": {},
   "outputs": [],
   "source": [
    "def mass(x):\n",
    "    return x//3-2"
   ]
  },
  {
   "cell_type": "code",
   "execution_count": 12,
   "metadata": {},
   "outputs": [
    {
     "name": "stdout",
     "output_type": "stream",
     "text": [
      "3270338\n"
     ]
    }
   ],
   "source": [
    "#The Tyranny of the Rocket Equation\n",
    "with open('input/1_1', 'r') as f:\n",
    "    x = [int(y) for y in f.read().splitlines()]\n",
    "sum = 0\n",
    "for m in x:\n",
    "    sum += mass(m)\n",
    "print(sum)"
   ]
  },
  {
   "cell_type": "code",
   "execution_count": 8,
   "metadata": {},
   "outputs": [
    {
     "data": {
      "text/plain": [
       "33583"
      ]
     },
     "execution_count": 8,
     "metadata": {},
     "output_type": "execute_result"
    }
   ],
   "source": [
    "mass(100756)"
   ]
  },
  {
   "cell_type": "code",
   "execution_count": 17,
   "metadata": {},
   "outputs": [
    {
     "name": "stdout",
     "output_type": "stream",
     "text": [
      "4902650\n"
     ]
    }
   ],
   "source": [
    "#The Tyranny of the Rocket Equation part 2\n",
    "with open('input/1_1', 'r') as f:\n",
    "    x = [int(y) for y in f.read().splitlines()]\n",
    "sum = 0\n",
    "for m in x:\n",
    "    component = 0\n",
    "    y = mass(m)\n",
    "    while y>0:\n",
    "        component += y\n",
    "        y = mass(y)\n",
    "    sum += component\n",
    "print(sum)"
   ]
  },
  {
   "cell_type": "markdown",
   "metadata": {},
   "source": [
    "# Day 2"
   ]
  },
  {
   "cell_type": "code",
   "execution_count": 27,
   "metadata": {},
   "outputs": [
    {
     "name": "stdout",
     "output_type": "stream",
     "text": [
      "[1, 12, 2, 3, 1, 1, 2, 3, 1, 3, 4, 3, 1, 5, 0, 3, 2, 1, 10, 19, 1, 19, 6, 23, 2, 23, 13, 27, 1, 27, 5, 31, 2, 31, 10, 35, 1, 9, 35, 39, 1, 39, 9, 43, 2, 9, 43, 47, 1, 5, 47, 51, 2, 13, 51, 55, 1, 55, 9, 59, 2, 6, 59, 63, 1, 63, 5, 67, 1, 10, 67, 71, 1, 71, 10, 75, 2, 75, 13, 79, 2, 79, 13, 83, 1, 5, 83, 87, 1, 87, 6, 91, 2, 91, 13, 95, 1, 5, 95, 99, 1, 99, 2, 103, 1, 103, 6, 0, 99, 2, 14, 0, 0]\n",
      "[3790645, 12, 2, 2, 1, 1, 2, 3, 1, 3, 4, 3, 1, 5, 0, 3, 2, 1, 10, 48, 1, 19, 6, 50, 2, 23, 13, 250, 1, 27, 5, 251, 2, 31, 10, 1004, 1, 9, 35, 1007, 1, 39, 9, 1010, 2, 9, 43, 3030, 1, 5, 47, 3031, 2, 13, 51, 15155, 1, 55, 9, 15158, 2, 6, 59, 30316, 1, 63, 5, 30317, 1, 10, 67, 30321, 1, 71, 10, 30325, 2, 75, 13, 151625, 2, 79, 13, 758125, 1, 5, 83, 758126, 1, 87, 6, 758128, 2, 91, 13, 3790640, 1, 5, 95, 3790641, 1, 99, 2, 3790643, 1, 103, 6, 0, 99, 2, 14, 0, 0]\n"
     ]
    }
   ],
   "source": [
    "#1202 Program Alarm\n",
    "with open('input/2.txt', 'r') as f:\n",
    "    x = [int(y) for y in f.read().split(',')]\n",
    "x[1] = 12\n",
    "x[2] = 2\n",
    "print(x)\n",
    "p = 0\n",
    "while p<len(x):\n",
    "    if x[p] == 99:\n",
    "        break\n",
    "    elif x[p] == 1:\n",
    "        x[x[p+3]] = x[x[p+2]] + x[x[p+1]]\n",
    "    elif x[p] == 2:\n",
    "        x[x[p+3]] = x[x[p+2]] * x[x[p+1]]\n",
    "    p += 4\n",
    "print(x)"
   ]
  },
  {
   "cell_type": "code",
   "execution_count": 31,
   "metadata": {},
   "outputs": [
    {
     "name": "stdout",
     "output_type": "stream",
     "text": [
      "65\n",
      "77\n"
     ]
    }
   ],
   "source": [
    "#1202 Program Alarm part 2\n",
    "for a in range(100):\n",
    "    for b in range(100):\n",
    "        with open('input/2.txt', 'r') as f:\n",
    "            x = [int(y) for y in f.read().split(',')]\n",
    "        x[1] = a\n",
    "        x[2] = b\n",
    "        p = 0\n",
    "        while p<len(x):\n",
    "            if x[p] == 99:\n",
    "                break\n",
    "            elif x[p] == 1:\n",
    "                x[x[p+3]] = x[x[p+2]] + x[x[p+1]]\n",
    "            elif x[p] == 2:\n",
    "                x[x[p+3]] = x[x[p+2]] * x[x[p+1]]\n",
    "            p += 4\n",
    "        if x[0] == 19690720:\n",
    "            print(a)\n",
    "            print(b)"
   ]
  },
  {
   "cell_type": "markdown",
   "metadata": {},
   "source": [
    "# Day 3"
   ]
  },
  {
   "cell_type": "code",
   "execution_count": 263,
   "metadata": {},
   "outputs": [],
   "source": [
    "#Crossed Wires\n",
    "with open(\"input/3.txt\", \"r\") as file:\n",
    "    ins = file.read().splitlines()\n",
    "# ins = [\"R8,U5,L5,D3\",\"U7,R6,D4,L4\"]"
   ]
  },
  {
   "cell_type": "code",
   "execution_count": 264,
   "metadata": {},
   "outputs": [],
   "source": [
    "wire1 = [[x[0], int(x[1:])] for x in ins[0].split(',')]"
   ]
  },
  {
   "cell_type": "code",
   "execution_count": 265,
   "metadata": {},
   "outputs": [],
   "source": [
    "wire2 = [[x[0], int(x[1:])] for x in ins[1].split(',')]"
   ]
  },
  {
   "cell_type": "code",
   "execution_count": 266,
   "metadata": {},
   "outputs": [],
   "source": [
    "mid = 6000\n",
    "full = 12000"
   ]
  },
  {
   "cell_type": "code",
   "execution_count": 267,
   "metadata": {},
   "outputs": [],
   "source": [
    "grid = [[0]*full for _ in range(full)]"
   ]
  },
  {
   "cell_type": "code",
   "execution_count": 268,
   "metadata": {},
   "outputs": [],
   "source": [
    "x = mid\n",
    "y = mid\n",
    "for di, mag in wire1:\n",
    "    if di == 'R':\n",
    "        x2 = x + mag\n",
    "        for a in range(x+1, x2+1):\n",
    "            grid[a][y] = 1\n",
    "        x = x2\n",
    "    if di == 'L':\n",
    "        x2 = x - mag\n",
    "        for a in range(x-1, x2-1, -1):\n",
    "            grid[a][y] = 1\n",
    "        x = x2\n",
    "    if di == 'U':\n",
    "        y2 = y + mag\n",
    "        for b in range(y+1, y2+1):\n",
    "            grid[x][b] = 1\n",
    "        y = y2\n",
    "    if di == 'D':\n",
    "        y2 = y - mag\n",
    "        for b in range(y-1, y2-1, -1):\n",
    "            grid[x][b] = 1\n",
    "        y = y2"
   ]
  },
  {
   "cell_type": "code",
   "execution_count": 269,
   "metadata": {},
   "outputs": [],
   "source": [
    "x = mid\n",
    "y = mid\n",
    "for di, mag in wire2:\n",
    "    if di == 'R':\n",
    "        x2 = x + mag\n",
    "        for a in range(x+1, x2+1):\n",
    "            grid[a][y] += 2\n",
    "        x = x2\n",
    "    if di == 'L':\n",
    "        x2 = x - mag\n",
    "        for a in range(x-1, x2-1, -1):\n",
    "            grid[a][y] += 2\n",
    "        x = x2\n",
    "    if di == 'U':\n",
    "        y2 = y + mag\n",
    "        for b in range(y+1, y2+1):\n",
    "            grid[x][b] += 2\n",
    "        y = y2\n",
    "    if di == 'D':\n",
    "        y2 = y - mag\n",
    "        for b in range(y-1, y2-1, -1):\n",
    "            grid[x][b] += 2\n",
    "        y = y2"
   ]
  },
  {
   "cell_type": "code",
   "execution_count": 270,
   "metadata": {},
   "outputs": [],
   "source": [
    "from math import*\n",
    " \n",
    "def manhattan_distance(x,y):\n",
    " \n",
    "    return sum(abs(a-b) for a,b in zip(x,y))"
   ]
  },
  {
   "cell_type": "code",
   "execution_count": 271,
   "metadata": {},
   "outputs": [],
   "source": [
    "grid[mid][mid]=0\n",
    "close = 10000\n",
    "a = -1\n",
    "b = -1\n",
    "for x in range(full):\n",
    "    for y in range(full):\n",
    "        if grid[x][y] == 3:\n",
    "            if manhattan_distance([x, y], [mid, mid]) < close:\n",
    "                close = manhattan_distance([x, y], [mid, mid])\n",
    "                a = x\n",
    "                b = y"
   ]
  },
  {
   "cell_type": "code",
   "execution_count": 272,
   "metadata": {},
   "outputs": [
    {
     "data": {
      "text/plain": [
       "651"
      ]
     },
     "execution_count": 272,
     "metadata": {},
     "output_type": "execute_result"
    }
   ],
   "source": [
    "close"
   ]
  },
  {
   "cell_type": "code",
   "execution_count": 1,
   "metadata": {},
   "outputs": [],
   "source": [
    "#Crossed Wires part 2\n",
    "with open(\"input/3.txt\", \"r\") as file:\n",
    "    ins = file.read().splitlines()"
   ]
  },
  {
   "cell_type": "code",
   "execution_count": 2,
   "metadata": {},
   "outputs": [],
   "source": [
    "wire1 = [[x[0], int(x[1:])] for x in ins[0].split(',')]"
   ]
  },
  {
   "cell_type": "code",
   "execution_count": 3,
   "metadata": {},
   "outputs": [],
   "source": [
    "wire2 = [[x[0], int(x[1:])] for x in ins[1].split(',')]"
   ]
  },
  {
   "cell_type": "code",
   "execution_count": 4,
   "metadata": {},
   "outputs": [],
   "source": [
    "mid = 6000\n",
    "full = 12000"
   ]
  },
  {
   "cell_type": "code",
   "execution_count": 5,
   "metadata": {},
   "outputs": [],
   "source": [
    "grid = [[0]*full for _ in range(full)]\n",
    "grid_wire1 = [[0]*full for _ in range(full)]\n",
    "grid_wire2 = [[0]*full for _ in range(full)]"
   ]
  },
  {
   "cell_type": "code",
   "execution_count": 6,
   "metadata": {},
   "outputs": [],
   "source": [
    "x = mid\n",
    "y = mid\n",
    "counter = 0\n",
    "for di, mag in wire1:\n",
    "    if di == 'R':\n",
    "        x2 = x + mag\n",
    "        for a in range(x+1, x2+1):\n",
    "            counter += 1\n",
    "            grid[a][y] = 1\n",
    "            if grid_wire1[a][y] == 0:\n",
    "                grid_wire1[a][y] = counter\n",
    "        x = x2\n",
    "    if di == 'L':\n",
    "        x2 = x - mag\n",
    "        for a in range(x-1, x2-1, -1):\n",
    "            counter += 1\n",
    "            grid[a][y] = 1\n",
    "            if grid_wire1[a][y] == 0:\n",
    "                grid_wire1[a][y] = counter\n",
    "        x = x2\n",
    "    if di == 'U':\n",
    "        y2 = y + mag\n",
    "        for b in range(y+1, y2+1):\n",
    "            counter += 1\n",
    "            grid[x][b] = 1\n",
    "            if grid_wire1[x][b] == 0:\n",
    "                grid_wire1[x][b] = counter\n",
    "        y = y2\n",
    "    if di == 'D':\n",
    "        y2 = y - mag\n",
    "        for b in range(y-1, y2-1, -1):\n",
    "            counter += 1\n",
    "            grid[x][b] = 1\n",
    "            if grid_wire1[x][b] == 0:\n",
    "                grid_wire1[x][b] = counter\n",
    "        y = y2"
   ]
  },
  {
   "cell_type": "code",
   "execution_count": 7,
   "metadata": {},
   "outputs": [],
   "source": [
    "x = mid\n",
    "y = mid\n",
    "counter = 0\n",
    "for di, mag in wire2:\n",
    "    if di == 'R':\n",
    "        x2 = x + mag\n",
    "        for a in range(x+1, x2+1):\n",
    "            counter += 1\n",
    "            grid[a][y] += 2\n",
    "            if grid_wire2[a][y] == 0:\n",
    "                grid_wire2[a][y] = counter\n",
    "        x = x2\n",
    "    if di == 'L':\n",
    "        x2 = x - mag\n",
    "        for a in range(x-1, x2-1, -1):\n",
    "            counter += 1\n",
    "            grid[a][y] += 2\n",
    "            if grid_wire2[a][y] == 0:\n",
    "                grid_wire2[a][y] = counter\n",
    "        x = x2\n",
    "    if di == 'U':\n",
    "        y2 = y + mag\n",
    "        for b in range(y+1, y2+1):\n",
    "            counter += 1\n",
    "            grid[x][b] += 2\n",
    "            if grid_wire2[x][b] == 0:\n",
    "                grid_wire2[x][b] = counter\n",
    "        y = y2\n",
    "    if di == 'D':\n",
    "        y2 = y - mag\n",
    "        for b in range(y-1, y2-1, -1):\n",
    "            counter += 1\n",
    "            grid[x][b] += 2\n",
    "            if grid_wire2[x][b] == 0:\n",
    "                grid_wire2[x][b] = counter\n",
    "        y = y2"
   ]
  },
  {
   "cell_type": "code",
   "execution_count": 8,
   "metadata": {},
   "outputs": [],
   "source": [
    "grid[mid][mid]=0\n",
    "close = 10000\n",
    "a = -1\n",
    "b = -1\n",
    "for x in range(full):\n",
    "    for y in range(full):\n",
    "        if grid[x][y] == 3:\n",
    "            if grid_wire1[x][y] + grid_wire2[x][y] < close:\n",
    "                close = grid_wire1[x][y] + grid_wire2[x][y]\n",
    "                a = x\n",
    "                b = y"
   ]
  },
  {
   "cell_type": "code",
   "execution_count": 9,
   "metadata": {},
   "outputs": [
    {
     "data": {
      "text/plain": [
       "7534"
      ]
     },
     "execution_count": 9,
     "metadata": {},
     "output_type": "execute_result"
    }
   ],
   "source": [
    "close"
   ]
  },
  {
   "cell_type": "markdown",
   "metadata": {},
   "source": [
    "# Day 4"
   ]
  },
  {
   "cell_type": "code",
   "execution_count": 29,
   "metadata": {},
   "outputs": [],
   "source": [
    "#Secure Container\n",
    "min = 264793\n",
    "max = 803935\n",
    "count = 0\n",
    "for n in range(min, max+1):\n",
    "    A = str(n)\n",
    "    if all([A[i] <= A[i + 1] for i in range(len(A) - 1)]):\n",
    "        if any([A[i] == A[i + 1] for i in range(len(A) - 1)]):\n",
    "            count += 1"
   ]
  },
  {
   "cell_type": "code",
   "execution_count": 30,
   "metadata": {},
   "outputs": [
    {
     "data": {
      "text/plain": [
       "966"
      ]
     },
     "execution_count": 30,
     "metadata": {},
     "output_type": "execute_result"
    }
   ],
   "source": [
    "count"
   ]
  },
  {
   "cell_type": "code",
   "execution_count": 31,
   "metadata": {},
   "outputs": [],
   "source": [
    "#Secure Container part 2\n",
    "min = 264793\n",
    "max = 803935\n",
    "count = 0\n",
    "for n in range(min, max+1):\n",
    "    A = str(n)\n",
    "    if all([A[i] <= A[i + 1] for i in range(len(A) - 1)]):\n",
    "        for i in range(len(A) - 1):\n",
    "            if A[i] == A[i + 1]:\n",
    "                if i>0:\n",
    "                    if A[i-1] != A[i]:\n",
    "                        if i<4:\n",
    "                            if A[i+1] != A[i+2]:\n",
    "                                count += 1"
   ]
  },
  {
   "cell_type": "code",
   "execution_count": 32,
   "metadata": {},
   "outputs": [
    {
     "data": {
      "text/plain": [
       "403"
      ]
     },
     "execution_count": 32,
     "metadata": {},
     "output_type": "execute_result"
    }
   ],
   "source": [
    "count"
   ]
  },
  {
   "cell_type": "code",
   "execution_count": 35,
   "metadata": {},
   "outputs": [],
   "source": [
    "#Secure Container\n",
    "min = 264793\n",
    "max = 803935\n",
    "count = 0\n",
    "for n in range(min, max+1):\n",
    "    A = \"0\" + str(n) + \"0\"\n",
    "    if all([A[i] <= A[i + 1] for i in range(1, len(A) - 2)]):\n",
    "        if any([A[i] == A[i + 1] and A[i-1] != A[i] and A[i+1] != A[i+2] for i in range(1, len(A) - 2)]):\n",
    "            count += 1"
   ]
  },
  {
   "cell_type": "code",
   "execution_count": 36,
   "metadata": {},
   "outputs": [
    {
     "data": {
      "text/plain": [
       "628"
      ]
     },
     "execution_count": 36,
     "metadata": {},
     "output_type": "execute_result"
    }
   ],
   "source": [
    "count"
   ]
  },
  {
   "cell_type": "markdown",
   "metadata": {},
   "source": [
    "# Day 5"
   ]
  },
  {
   "cell_type": "code",
   "execution_count": 7,
   "metadata": {},
   "outputs": [
    {
     "name": "stdout",
     "output_type": "stream",
     "text": [
      "1\n",
      "0\n",
      "0\n",
      "0\n",
      "0\n",
      "0\n",
      "0\n",
      "0\n",
      "0\n",
      "0\n",
      "7157989\n"
     ]
    }
   ],
   "source": [
    "#Sunny with a Chance of Asteroids\n",
    "with open('input/5.txt', 'r') as f:\n",
    "    x = [int(y) for y in f.read().split(',')]\n",
    "p = 0\n",
    "while p<len(x):\n",
    "    ins = str(x[p]).zfill(5)\n",
    "    op = int(ins[-2:])\n",
    "    if x[p] == 99:\n",
    "        break\n",
    "    elif op == 1:\n",
    "        x[x[p+3]] = (x[x[p+2]] if int(ins[1]) == 0 else x[p+2]) + (x[x[p+1]] if int(ins[2]) == 0 else x[p+1])\n",
    "        p += 4\n",
    "    elif op == 2:\n",
    "        x[x[p+3]] = (x[x[p+2]] if int(ins[1]) == 0 else x[p+2]) * (x[x[p+1]] if int(ins[2]) == 0 else x[p+1])\n",
    "        p += 4\n",
    "    elif op == 3:\n",
    "        x[x[p+1]] = int(input())\n",
    "        p += 2\n",
    "    elif op == 4:\n",
    "        print(x[x[p+1]] if int(ins[2]) == 0 else x[p+1])\n",
    "        p += 2"
   ]
  },
  {
   "cell_type": "code",
   "execution_count": 12,
   "metadata": {},
   "outputs": [
    {
     "name": "stdout",
     "output_type": "stream",
     "text": [
      "5\n",
      "7873292\n"
     ]
    }
   ],
   "source": [
    "#Sunny with a Chance of Asteroids part 2\n",
    "with open('input/5.txt', 'r') as f:\n",
    "    x = [int(y) for y in f.read().split(',')]\n",
    "p = 0\n",
    "while p<len(x):\n",
    "    ins = str(x[p]).zfill(5)\n",
    "    op = int(ins[-2:])\n",
    "    if x[p] == 99:\n",
    "        break\n",
    "    elif op == 1:\n",
    "        x[x[p+3]] = (x[x[p+2]] if int(ins[1]) == 0 else x[p+2]) + (x[x[p+1]] if int(ins[2]) == 0 else x[p+1])\n",
    "        p += 4\n",
    "    elif op == 2:\n",
    "        x[x[p+3]] = (x[x[p+2]] if int(ins[1]) == 0 else x[p+2]) * (x[x[p+1]] if int(ins[2]) == 0 else x[p+1])\n",
    "        p += 4\n",
    "    elif op == 3:\n",
    "        x[x[p+1]] = int(input())\n",
    "        p += 2\n",
    "    elif op == 4:\n",
    "        print(x[x[p+1]] if int(ins[2]) == 0 else x[p+1])\n",
    "        p += 2\n",
    "    elif op == 5:\n",
    "        p = (x[x[p+2]] if int(ins[1]) == 0 else x[p+2]) if (x[x[p+1]] if int(ins[2]) == 0 else x[p+1]) != 0 else p+3\n",
    "    elif op == 6:\n",
    "        p = (x[x[p+2]] if int(ins[1]) == 0 else x[p+2]) if (x[x[p+1]] if int(ins[2]) == 0 else x[p+1]) == 0 else p+3\n",
    "    elif op == 7:\n",
    "        x[x[p+3]] = 1 if (x[x[p+1]] if int(ins[2]) == 0 else x[p+1]) < (x[x[p+2]] if int(ins[1]) == 0 else x[p+2]) else 0\n",
    "        p += 4\n",
    "    elif op == 8:\n",
    "        x[x[p+3]] = 1 if (x[x[p+1]] if int(ins[2]) == 0 else x[p+1]) == (x[x[p+2]] if int(ins[1]) == 0 else x[p+2]) else 0\n",
    "        p += 4"
   ]
  },
  {
   "cell_type": "code",
   "execution_count": null,
   "metadata": {},
   "outputs": [],
   "source": []
  }
 ],
 "metadata": {
  "kernelspec": {
   "display_name": "Python 3",
   "language": "python",
   "name": "python3"
  },
  "language_info": {
   "codemirror_mode": {
    "name": "ipython",
    "version": 3
   },
   "file_extension": ".py",
   "mimetype": "text/x-python",
   "name": "python",
   "nbconvert_exporter": "python",
   "pygments_lexer": "ipython3",
   "version": "3.7.3"
  }
 },
 "nbformat": 4,
 "nbformat_minor": 2
}
