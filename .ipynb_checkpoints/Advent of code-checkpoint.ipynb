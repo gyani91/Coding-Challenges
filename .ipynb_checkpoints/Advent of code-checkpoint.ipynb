{
 "cells": [
  {
   "cell_type": "markdown",
   "metadata": {},
   "source": [
    "Disclaimer: The solutions are not optimized on space and time complexities as the format of the challenge doesn't require it. If you claim that you can solve these more efficiently - I can't agree more :)"
   ]
  },
  {
   "cell_type": "markdown",
   "metadata": {},
   "source": [
    "# Day 1"
   ]
  },
  {
   "cell_type": "code",
   "execution_count": 1,
   "metadata": {},
   "outputs": [],
   "source": [
    "def mass(x):\n",
    "    return x//3-2"
   ]
  },
  {
   "cell_type": "code",
   "execution_count": 2,
   "metadata": {},
   "outputs": [
    {
     "name": "stdout",
     "output_type": "stream",
     "text": [
      "3270338\n"
     ]
    }
   ],
   "source": [
    "#The Tyranny of the Rocket Equation\n",
    "with open('input/1_1', 'r') as f:\n",
    "    x = [int(y) for y in f.read().splitlines()]\n",
    "sum = 0\n",
    "for m in x:\n",
    "    sum += mass(m)\n",
    "print(sum)"
   ]
  },
  {
   "cell_type": "code",
   "execution_count": 3,
   "metadata": {},
   "outputs": [
    {
     "data": {
      "text/plain": [
       "33583"
      ]
     },
     "execution_count": 3,
     "metadata": {},
     "output_type": "execute_result"
    }
   ],
   "source": [
    "mass(100756)"
   ]
  },
  {
   "cell_type": "code",
   "execution_count": 4,
   "metadata": {},
   "outputs": [
    {
     "name": "stdout",
     "output_type": "stream",
     "text": [
      "4902650\n"
     ]
    }
   ],
   "source": [
    "#The Tyranny of the Rocket Equation part 2\n",
    "with open('input/1_1', 'r') as f:\n",
    "    x = [int(y) for y in f.read().splitlines()]\n",
    "sum = 0\n",
    "for m in x:\n",
    "    component = 0\n",
    "    y = mass(m)\n",
    "    while y>0:\n",
    "        component += y\n",
    "        y = mass(y)\n",
    "    sum += component\n",
    "print(sum)"
   ]
  },
  {
   "cell_type": "markdown",
   "metadata": {},
   "source": [
    "# Day 2"
   ]
  },
  {
   "cell_type": "code",
   "execution_count": 5,
   "metadata": {},
   "outputs": [
    {
     "name": "stdout",
     "output_type": "stream",
     "text": [
      "3790645\n"
     ]
    }
   ],
   "source": [
    "#1202 Program Alarm\n",
    "with open('input/2.txt', 'r') as f:\n",
    "    x = [int(y) for y in f.read().split(',')]\n",
    "x[1] = 12\n",
    "x[2] = 2\n",
    "p = 0\n",
    "while p<len(x):\n",
    "    if x[p] == 99:\n",
    "        break\n",
    "    elif x[p] == 1:\n",
    "        x[x[p+3]] = x[x[p+2]] + x[x[p+1]]\n",
    "    elif x[p] == 2:\n",
    "        x[x[p+3]] = x[x[p+2]] * x[x[p+1]]\n",
    "    p += 4\n",
    "print(x[0])"
   ]
  },
  {
   "cell_type": "code",
   "execution_count": 6,
   "metadata": {},
   "outputs": [
    {
     "name": "stdout",
     "output_type": "stream",
     "text": [
      "65 77\n"
     ]
    }
   ],
   "source": [
    "#1202 Program Alarm part 2\n",
    "for a in range(100):\n",
    "    for b in range(100):\n",
    "        with open('input/2.txt', 'r') as f:\n",
    "            x = [int(y) for y in f.read().split(',')]\n",
    "        x[1] = a\n",
    "        x[2] = b\n",
    "        p = 0\n",
    "        while p<len(x):\n",
    "            if x[p] == 99:\n",
    "                break\n",
    "            elif x[p] == 1:\n",
    "                x[x[p+3]] = x[x[p+2]] + x[x[p+1]]\n",
    "            elif x[p] == 2:\n",
    "                x[x[p+3]] = x[x[p+2]] * x[x[p+1]]\n",
    "            p += 4\n",
    "        if x[0] == 19690720:\n",
    "            print(a, b)"
   ]
  },
  {
   "cell_type": "markdown",
   "metadata": {},
   "source": [
    "# Day 3"
   ]
  },
  {
   "cell_type": "code",
   "execution_count": 7,
   "metadata": {},
   "outputs": [],
   "source": [
    "#Crossed Wires\n",
    "%reset -f\n",
    "with open(\"input/3.txt\", \"r\") as file:\n",
    "    ins = file.read().splitlines()\n",
    "# ins = [\"R8,U5,L5,D3\",\"U7,R6,D4,L4\"]"
   ]
  },
  {
   "cell_type": "code",
   "execution_count": 8,
   "metadata": {},
   "outputs": [],
   "source": [
    "wire1 = [[x[0], int(x[1:])] for x in ins[0].split(',')]"
   ]
  },
  {
   "cell_type": "code",
   "execution_count": 9,
   "metadata": {},
   "outputs": [],
   "source": [
    "wire2 = [[x[0], int(x[1:])] for x in ins[1].split(',')]"
   ]
  },
  {
   "cell_type": "code",
   "execution_count": 10,
   "metadata": {},
   "outputs": [],
   "source": [
    "mid = 6000\n",
    "full = 12000"
   ]
  },
  {
   "cell_type": "code",
   "execution_count": 11,
   "metadata": {},
   "outputs": [],
   "source": [
    "grid = [[0]*full for _ in range(full)]"
   ]
  },
  {
   "cell_type": "code",
   "execution_count": 12,
   "metadata": {},
   "outputs": [],
   "source": [
    "x = mid\n",
    "y = mid\n",
    "for di, mag in wire1:\n",
    "    if di == 'R':\n",
    "        x2 = x + mag\n",
    "        for a in range(x+1, x2+1):\n",
    "            grid[a][y] = 1\n",
    "        x = x2\n",
    "    if di == 'L':\n",
    "        x2 = x - mag\n",
    "        for a in range(x-1, x2-1, -1):\n",
    "            grid[a][y] = 1\n",
    "        x = x2\n",
    "    if di == 'U':\n",
    "        y2 = y + mag\n",
    "        for b in range(y+1, y2+1):\n",
    "            grid[x][b] = 1\n",
    "        y = y2\n",
    "    if di == 'D':\n",
    "        y2 = y - mag\n",
    "        for b in range(y-1, y2-1, -1):\n",
    "            grid[x][b] = 1\n",
    "        y = y2"
   ]
  },
  {
   "cell_type": "code",
   "execution_count": 13,
   "metadata": {},
   "outputs": [],
   "source": [
    "x = mid\n",
    "y = mid\n",
    "for di, mag in wire2:\n",
    "    if di == 'R':\n",
    "        x2 = x + mag\n",
    "        for a in range(x+1, x2+1):\n",
    "            grid[a][y] += 2\n",
    "        x = x2\n",
    "    if di == 'L':\n",
    "        x2 = x - mag\n",
    "        for a in range(x-1, x2-1, -1):\n",
    "            grid[a][y] += 2\n",
    "        x = x2\n",
    "    if di == 'U':\n",
    "        y2 = y + mag\n",
    "        for b in range(y+1, y2+1):\n",
    "            grid[x][b] += 2\n",
    "        y = y2\n",
    "    if di == 'D':\n",
    "        y2 = y - mag\n",
    "        for b in range(y-1, y2-1, -1):\n",
    "            grid[x][b] += 2\n",
    "        y = y2"
   ]
  },
  {
   "cell_type": "code",
   "execution_count": 14,
   "metadata": {},
   "outputs": [],
   "source": [
    "from math import *\n",
    " \n",
    "def manhattan_distance(x,y):\n",
    " \n",
    "    return sum(abs(a-b) for a,b in zip(x,y))"
   ]
  },
  {
   "cell_type": "code",
   "execution_count": 15,
   "metadata": {},
   "outputs": [],
   "source": [
    "grid[mid][mid]=0\n",
    "close = 10000\n",
    "a = -1\n",
    "b = -1\n",
    "for x in range(full):\n",
    "    for y in range(full):\n",
    "        if grid[x][y] == 3:\n",
    "            if manhattan_distance([x, y], [mid, mid]) < close:\n",
    "                close = manhattan_distance([x, y], [mid, mid])\n",
    "                a = x\n",
    "                b = y"
   ]
  },
  {
   "cell_type": "code",
   "execution_count": 16,
   "metadata": {},
   "outputs": [
    {
     "data": {
      "text/plain": [
       "651"
      ]
     },
     "execution_count": 16,
     "metadata": {},
     "output_type": "execute_result"
    }
   ],
   "source": [
    "close"
   ]
  },
  {
   "cell_type": "code",
   "execution_count": 17,
   "metadata": {},
   "outputs": [],
   "source": [
    "#Crossed Wires part 2\n",
    "with open(\"input/3.txt\", \"r\") as file:\n",
    "    ins = file.read().splitlines()"
   ]
  },
  {
   "cell_type": "code",
   "execution_count": 18,
   "metadata": {},
   "outputs": [],
   "source": [
    "wire1 = [[x[0], int(x[1:])] for x in ins[0].split(',')]"
   ]
  },
  {
   "cell_type": "code",
   "execution_count": 19,
   "metadata": {},
   "outputs": [],
   "source": [
    "wire2 = [[x[0], int(x[1:])] for x in ins[1].split(',')]"
   ]
  },
  {
   "cell_type": "code",
   "execution_count": 20,
   "metadata": {},
   "outputs": [],
   "source": [
    "mid = 6000\n",
    "full = 12000"
   ]
  },
  {
   "cell_type": "code",
   "execution_count": 21,
   "metadata": {},
   "outputs": [],
   "source": [
    "grid = [[0]*full for _ in range(full)]\n",
    "grid_wire1 = [[0]*full for _ in range(full)]\n",
    "grid_wire2 = [[0]*full for _ in range(full)]"
   ]
  },
  {
   "cell_type": "code",
   "execution_count": 22,
   "metadata": {},
   "outputs": [],
   "source": [
    "x = mid\n",
    "y = mid\n",
    "counter = 0\n",
    "for di, mag in wire1:\n",
    "    if di == 'R':\n",
    "        x2 = x + mag\n",
    "        for a in range(x+1, x2+1):\n",
    "            counter += 1\n",
    "            grid[a][y] = 1\n",
    "            if grid_wire1[a][y] == 0:\n",
    "                grid_wire1[a][y] = counter\n",
    "        x = x2\n",
    "    if di == 'L':\n",
    "        x2 = x - mag\n",
    "        for a in range(x-1, x2-1, -1):\n",
    "            counter += 1\n",
    "            grid[a][y] = 1\n",
    "            if grid_wire1[a][y] == 0:\n",
    "                grid_wire1[a][y] = counter\n",
    "        x = x2\n",
    "    if di == 'U':\n",
    "        y2 = y + mag\n",
    "        for b in range(y+1, y2+1):\n",
    "            counter += 1\n",
    "            grid[x][b] = 1\n",
    "            if grid_wire1[x][b] == 0:\n",
    "                grid_wire1[x][b] = counter\n",
    "        y = y2\n",
    "    if di == 'D':\n",
    "        y2 = y - mag\n",
    "        for b in range(y-1, y2-1, -1):\n",
    "            counter += 1\n",
    "            grid[x][b] = 1\n",
    "            if grid_wire1[x][b] == 0:\n",
    "                grid_wire1[x][b] = counter\n",
    "        y = y2"
   ]
  },
  {
   "cell_type": "code",
   "execution_count": 23,
   "metadata": {},
   "outputs": [],
   "source": [
    "x = mid\n",
    "y = mid\n",
    "counter = 0\n",
    "for di, mag in wire2:\n",
    "    if di == 'R':\n",
    "        x2 = x + mag\n",
    "        for a in range(x+1, x2+1):\n",
    "            counter += 1\n",
    "            grid[a][y] += 2\n",
    "            if grid_wire2[a][y] == 0:\n",
    "                grid_wire2[a][y] = counter\n",
    "        x = x2\n",
    "    if di == 'L':\n",
    "        x2 = x - mag\n",
    "        for a in range(x-1, x2-1, -1):\n",
    "            counter += 1\n",
    "            grid[a][y] += 2\n",
    "            if grid_wire2[a][y] == 0:\n",
    "                grid_wire2[a][y] = counter\n",
    "        x = x2\n",
    "    if di == 'U':\n",
    "        y2 = y + mag\n",
    "        for b in range(y+1, y2+1):\n",
    "            counter += 1\n",
    "            grid[x][b] += 2\n",
    "            if grid_wire2[x][b] == 0:\n",
    "                grid_wire2[x][b] = counter\n",
    "        y = y2\n",
    "    if di == 'D':\n",
    "        y2 = y - mag\n",
    "        for b in range(y-1, y2-1, -1):\n",
    "            counter += 1\n",
    "            grid[x][b] += 2\n",
    "            if grid_wire2[x][b] == 0:\n",
    "                grid_wire2[x][b] = counter\n",
    "        y = y2"
   ]
  },
  {
   "cell_type": "code",
   "execution_count": 24,
   "metadata": {},
   "outputs": [],
   "source": [
    "grid[mid][mid]=0\n",
    "close = 10000\n",
    "a = -1\n",
    "b = -1\n",
    "for x in range(full):\n",
    "    for y in range(full):\n",
    "        if grid[x][y] == 3:\n",
    "            if grid_wire1[x][y] + grid_wire2[x][y] < close:\n",
    "                close = grid_wire1[x][y] + grid_wire2[x][y]\n",
    "                a = x\n",
    "                b = y"
   ]
  },
  {
   "cell_type": "code",
   "execution_count": 25,
   "metadata": {},
   "outputs": [
    {
     "data": {
      "text/plain": [
       "7534"
      ]
     },
     "execution_count": 25,
     "metadata": {},
     "output_type": "execute_result"
    }
   ],
   "source": [
    "close"
   ]
  },
  {
   "cell_type": "markdown",
   "metadata": {},
   "source": [
    "# Day 4"
   ]
  },
  {
   "cell_type": "markdown",
   "metadata": {},
   "source": [
    "Couldn't think of a better place to use all() and any() functions"
   ]
  },
  {
   "cell_type": "code",
   "execution_count": 26,
   "metadata": {},
   "outputs": [],
   "source": [
    "#Secure Container\n",
    "min = 264793\n",
    "max = 803935\n",
    "count = 0\n",
    "for n in range(min, max+1):\n",
    "    A = str(n)\n",
    "    #checks increasing order\n",
    "    if all([A[i] <= A[i + 1] for i in range(len(A) - 1)]):\n",
    "        #checks atleast 1 pair\n",
    "        if any([A[i] == A[i + 1] for i in range(len(A) - 1)]):\n",
    "            count += 1"
   ]
  },
  {
   "cell_type": "code",
   "execution_count": 27,
   "metadata": {},
   "outputs": [
    {
     "data": {
      "text/plain": [
       "966"
      ]
     },
     "execution_count": 27,
     "metadata": {},
     "output_type": "execute_result"
    }
   ],
   "source": [
    "count"
   ]
  },
  {
   "cell_type": "code",
   "execution_count": 28,
   "metadata": {},
   "outputs": [],
   "source": [
    "#Secure Container part 2\n",
    "min = 264793\n",
    "max = 803935\n",
    "count = 0\n",
    "for n in range(min, max+1):\n",
    "    #padding to avoid out of index errors during matching\n",
    "    A = \"0\" + str(n) + \"0\"\n",
    "    if all([A[i] <= A[i + 1] for i in range(1, len(A) - 2)]):\n",
    "        #checks for pairs and that they are not in a larger group\n",
    "        if any([A[i] == A[i + 1] and A[i-1] != A[i] and A[i+1] != A[i+2] for i in range(1, len(A) - 2)]):\n",
    "            count += 1"
   ]
  },
  {
   "cell_type": "code",
   "execution_count": 29,
   "metadata": {},
   "outputs": [
    {
     "data": {
      "text/plain": [
       "628"
      ]
     },
     "execution_count": 29,
     "metadata": {},
     "output_type": "execute_result"
    }
   ],
   "source": [
    "count"
   ]
  },
  {
   "cell_type": "markdown",
   "metadata": {},
   "source": [
    "# Day 5"
   ]
  },
  {
   "cell_type": "code",
   "execution_count": 30,
   "metadata": {},
   "outputs": [
    {
     "name": "stdout",
     "output_type": "stream",
     "text": [
      "1\n",
      "0\n",
      "0\n",
      "0\n",
      "0\n",
      "0\n",
      "0\n",
      "0\n",
      "0\n",
      "0\n",
      "7157989\n"
     ]
    }
   ],
   "source": [
    "#Sunny with a Chance of Asteroids\n",
    "with open('input/5.txt', 'r') as f:\n",
    "    x = [int(y) for y in f.read().split(',')]\n",
    "p = 0\n",
    "while p<len(x):\n",
    "    ins = str(x[p]).zfill(5)\n",
    "    op = int(ins[-2:])\n",
    "    if op == 99:\n",
    "        break\n",
    "    elif op == 1:\n",
    "        x[x[p+3]] = (x[x[p+2]] if int(ins[1]) == 0 else x[p+2]) + (x[x[p+1]] if int(ins[2]) == 0 else x[p+1])\n",
    "        p += 4\n",
    "    elif op == 2:\n",
    "        x[x[p+3]] = (x[x[p+2]] if int(ins[1]) == 0 else x[p+2]) * (x[x[p+1]] if int(ins[2]) == 0 else x[p+1])\n",
    "        p += 4\n",
    "    elif op == 3:\n",
    "        x[x[p+1]] = int(input())\n",
    "        p += 2\n",
    "    elif op == 4:\n",
    "        print(x[x[p+1]] if int(ins[2]) == 0 else x[p+1])\n",
    "        p += 2"
   ]
  },
  {
   "cell_type": "code",
   "execution_count": 31,
   "metadata": {},
   "outputs": [
    {
     "name": "stdout",
     "output_type": "stream",
     "text": [
      "5\n",
      "7873292\n"
     ]
    }
   ],
   "source": [
    "#Sunny with a Chance of Asteroids part 2\n",
    "with open('input/5.txt', 'r') as f:\n",
    "    x = [int(y) for y in f.read().split(',')]\n",
    "p = 0\n",
    "while p<len(x):\n",
    "    ins = str(x[p]).zfill(5)\n",
    "    op = int(ins[-2:])\n",
    "    if op == 99:\n",
    "        break\n",
    "    elif op == 1:\n",
    "        x[x[p+3]] = (x[x[p+2]] if int(ins[1]) == 0 else x[p+2]) + (x[x[p+1]] if int(ins[2]) == 0 else x[p+1])\n",
    "        p += 4\n",
    "    elif op == 2:\n",
    "        x[x[p+3]] = (x[x[p+2]] if int(ins[1]) == 0 else x[p+2]) * (x[x[p+1]] if int(ins[2]) == 0 else x[p+1])\n",
    "        p += 4\n",
    "    elif op == 3:\n",
    "        x[x[p+1]] = int(input())\n",
    "        p += 2\n",
    "    elif op == 4:\n",
    "        print(x[x[p+1]] if int(ins[2]) == 0 else x[p+1])\n",
    "        p += 2\n",
    "    elif op == 5:\n",
    "        p = (x[x[p+2]] if int(ins[1]) == 0 else x[p+2]) if (x[x[p+1]] if int(ins[2]) == 0 else x[p+1]) != 0 else p+3\n",
    "    elif op == 6:\n",
    "        p = (x[x[p+2]] if int(ins[1]) == 0 else x[p+2]) if (x[x[p+1]] if int(ins[2]) == 0 else x[p+1]) == 0 else p+3\n",
    "    elif op == 7:\n",
    "        x[x[p+3]] = 1 if (x[x[p+1]] if int(ins[2]) == 0 else x[p+1]) < (x[x[p+2]] if int(ins[1]) == 0 else x[p+2]) else 0\n",
    "        p += 4\n",
    "    elif op == 8:\n",
    "        x[x[p+3]] = 1 if (x[x[p+1]] if int(ins[2]) == 0 else x[p+1]) == (x[x[p+2]] if int(ins[1]) == 0 else x[p+2]) else 0\n",
    "        p += 4"
   ]
  },
  {
   "cell_type": "markdown",
   "metadata": {},
   "source": [
    "# Day 6"
   ]
  },
  {
   "cell_type": "markdown",
   "metadata": {},
   "source": [
    "As we had to make a graph, I was initially considering making a Tree (not Binary Tree though) or a Graph Class and then count the orbits. But seemed to me like an overkill, so I ended up just implementing an Adjacency List using Hash Table to get that sweet O(1) lookup."
   ]
  },
  {
   "cell_type": "code",
   "execution_count": 32,
   "metadata": {},
   "outputs": [],
   "source": [
    "#Universal Orbit Map\n",
    "count = 0\n",
    "def visit(ht, x, depth):\n",
    "    global count\n",
    "    depth += 1\n",
    "    for y in ht[x]:\n",
    "        if y in ht.keys():\n",
    "            visit(ht, y, depth)\n",
    "        count += depth"
   ]
  },
  {
   "cell_type": "code",
   "execution_count": 33,
   "metadata": {},
   "outputs": [],
   "source": [
    "with open('input/6.txt', 'r') as f:\n",
    "    l = [y for y in f.read().splitlines()]\n",
    "\n",
    "#storing\n",
    "ht = {}\n",
    "for e in l:\n",
    "    x, y = e.split(')')\n",
    "    if x not in ht.keys():\n",
    "        ht[x] = [y]\n",
    "    else:\n",
    "        ht[x].append(y)\n",
    "#counting\n",
    "count=0\n",
    "visit(ht, 'COM', 0)"
   ]
  },
  {
   "cell_type": "code",
   "execution_count": 34,
   "metadata": {},
   "outputs": [
    {
     "data": {
      "text/plain": [
       "292387"
      ]
     },
     "execution_count": 34,
     "metadata": {},
     "output_type": "execute_result"
    }
   ],
   "source": [
    "count"
   ]
  },
  {
   "cell_type": "markdown",
   "metadata": {},
   "source": [
    "Yeah! now they throw you a classic minimum path problem. It could have still been easily implemented with just an adjacency matrix or an adjacency list. But I wanted to do it like a pro!\n",
    "\n",
    "So I instead ended up creating a Graph class with methods to solve this. To solve the min path problem I am using a modified version of the Dijkstra's Algorithm.\n",
    "\n",
    "The implementation of the class uses Adjacency Matrix to save the edges and could be made better if we used Adjacency List instead. Similarly, the implementation of Dijkstra's Algorithm is using a simple queue (O(n)), it could be made O(log N) if we use a MinHeap (Priority Queue) instead. But I feel lazy ;)"
   ]
  },
  {
   "cell_type": "code",
   "execution_count": 35,
   "metadata": {},
   "outputs": [],
   "source": [
    "#Universal Orbit Map part 2\n",
    "class Node:\n",
    "    def __init__(self, data, indexloc = None):\n",
    "        self.data = data\n",
    "        self.index = indexloc"
   ]
  },
  {
   "cell_type": "code",
   "execution_count": 36,
   "metadata": {},
   "outputs": [],
   "source": [
    "class Graph:\n",
    "\n",
    "    @classmethod\n",
    "    def create_from_nodes(self, nodes):\n",
    "        return Graph(len(nodes), len(nodes), nodes)\n",
    "\n",
    "  \n",
    "    def __init__(self, row, col, nodes = None):\n",
    "        self.adj_mat = [[0] * col for _ in range(row)]\n",
    "        self.nodes = list(nodes)\n",
    "        for i in range(len(self.nodes)):\n",
    "            self.nodes[i].index = i\n",
    "\n",
    "    def connect_dir(self, node1, node2, weight = 1):\n",
    "        node1, node2 = self.get_index_from_node(node1), self.get_index_from_node(node2)\n",
    "        self.adj_mat[node1][node2] = weight\n",
    "\n",
    "    def connect(self, node1, node2, weight = 1):\n",
    "        self.connect_dir(node1, node2, weight)\n",
    "        self.connect_dir(node2, node1, weight)\n",
    "\n",
    "    def connections_from(self, node):\n",
    "        node = self.get_index_from_node(node)\n",
    "        return [(self.nodes[col_num], self.adj_mat[node][col_num]) for col_num in range(len(self.adj_mat[node])) if self.adj_mat[node][col_num] != 0]\n",
    "  \n",
    "    def get_index_from_node(self, node):\n",
    "        if not isinstance(node, Node) and not isinstance(node, int):\n",
    "            raise ValueError(\"node must be an integer or a Node object\")\n",
    "        if isinstance(node, int):\n",
    "            return node\n",
    "        else:\n",
    "            return node.index\n",
    "        \n",
    "    def dijkstra(self, node):\n",
    "        nodenum = self.get_index_from_node(node)\n",
    "        dist = [None] * len(self.nodes)\n",
    "        for i in range(len(dist)):\n",
    "            dist[i] = [float(\"inf\")]\n",
    "            dist[i].append([self.nodes[nodenum]])\n",
    "        \n",
    "        dist[nodenum][0] = 0\n",
    "        queue = [i for i in range(len(self.nodes))]\n",
    "        seen = set()\n",
    "        while len(queue) > 0:\n",
    "            min_dist = float(\"inf\")\n",
    "            min_node = None\n",
    "            for n in queue: \n",
    "                if dist[n][0] < min_dist and n not in seen:\n",
    "                    min_dist = dist[n][0]\n",
    "                    min_node = n\n",
    "            \n",
    "            queue.remove(min_node)\n",
    "            seen.add(min_node)\n",
    "            connections = self.connections_from(min_node)\n",
    "            for (node, weight) in connections: \n",
    "                tot_dist = weight + min_dist\n",
    "                if tot_dist < dist[node.index][0]:\n",
    "                    dist[node.index][0] = tot_dist\n",
    "                    dist[node.index][1] = list(dist[min_node][1])\n",
    "                    dist[node.index][1].append(node)\n",
    "        return dist   "
   ]
  },
  {
   "cell_type": "code",
   "execution_count": 37,
   "metadata": {},
   "outputs": [],
   "source": [
    "#storing\n",
    "with open('input/6.txt', 'r') as f:\n",
    "    l = [y for y in f.read().splitlines()]\n",
    "#unique nodes\n",
    "nodes = set()\n",
    "for e in l:\n",
    "    x, y = e.split(')')\n",
    "    nodes.add(x)\n",
    "    nodes.add(y)\n",
    "\n",
    "#hashtable to keep track of node objects\n",
    "ht = {}\n",
    "for n in nodes:\n",
    "    ht[n] = Node(n)\n",
    "\n",
    "#nodes initialization \n",
    "graph = Graph.create_from_nodes(ht.values())\n",
    "\n",
    "#edges initialization\n",
    "for e in l:\n",
    "    x, y = e.split(')')\n",
    "    graph.connect(ht[x], ht[y])    "
   ]
  },
  {
   "cell_type": "code",
   "execution_count": 38,
   "metadata": {},
   "outputs": [
    {
     "name": "stdout",
     "output_type": "stream",
     "text": [
      "433\n"
     ]
    }
   ],
   "source": [
    "#calculating minimum distance\n",
    "source = \"YOU\"\n",
    "dest = \"SAN\"\n",
    "for (weight, node) in graph.dijkstra(ht[source]): \n",
    "    if node[-1].data == dest:\n",
    "        #remove 2 for source and destination from the distance\n",
    "        print(weight-2)"
   ]
  },
  {
   "cell_type": "markdown",
   "metadata": {},
   "source": [
    "# Day 7"
   ]
  },
  {
   "cell_type": "code",
   "execution_count": 39,
   "metadata": {},
   "outputs": [],
   "source": [
    "#Amplification Circuit\n",
    "def intcode(setting, signal):\n",
    "    with open('input/7.txt', 'r') as f:\n",
    "        x = [int(y) for y in f.read().split(',')]\n",
    "    p = 0\n",
    "    flag = True\n",
    "    while p<len(x):\n",
    "        ins = str(x[p]).zfill(5)\n",
    "        op = int(ins[-2:])\n",
    "        if op == 99:\n",
    "            break\n",
    "        elif op == 1:\n",
    "            x[x[p+3]] = (x[x[p+2]] if int(ins[1]) == 0 else x[p+2]) + (x[x[p+1]] if int(ins[2]) == 0 else x[p+1])\n",
    "            p += 4\n",
    "        elif op == 2:\n",
    "            x[x[p+3]] = (x[x[p+2]] if int(ins[1]) == 0 else x[p+2]) * (x[x[p+1]] if int(ins[2]) == 0 else x[p+1])\n",
    "            p += 4\n",
    "        elif op == 3:\n",
    "            if flag:\n",
    "                x[x[p+1]] = setting\n",
    "                flag = False\n",
    "            else:\n",
    "                x[x[p+1]] = signal\n",
    "            p += 2\n",
    "        elif op == 4:\n",
    "            return (x[x[p+1]] if int(ins[2]) == 0 else x[p+1])\n",
    "            p += 2\n",
    "        elif op == 5:\n",
    "            p = (x[x[p+2]] if int(ins[1]) == 0 else x[p+2]) if (x[x[p+1]] if int(ins[2]) == 0 else x[p+1]) != 0 else p+3\n",
    "        elif op == 6:\n",
    "            p = (x[x[p+2]] if int(ins[1]) == 0 else x[p+2]) if (x[x[p+1]] if int(ins[2]) == 0 else x[p+1]) == 0 else p+3\n",
    "        elif op == 7:\n",
    "            x[x[p+3]] = 1 if (x[x[p+1]] if int(ins[2]) == 0 else x[p+1]) < (x[x[p+2]] if int(ins[1]) == 0 else x[p+2]) else 0\n",
    "            p += 4\n",
    "        elif op == 8:\n",
    "            x[x[p+3]] = 1 if (x[x[p+1]] if int(ins[2]) == 0 else x[p+1]) == (x[x[p+2]] if int(ins[1]) == 0 else x[p+2]) else 0\n",
    "            p += 4"
   ]
  },
  {
   "cell_type": "code",
   "execution_count": 40,
   "metadata": {},
   "outputs": [
    {
     "name": "stdout",
     "output_type": "stream",
     "text": [
      "366376\n"
     ]
    }
   ],
   "source": [
    "from itertools import permutations\n",
    "\n",
    "perms =  permutations([0,1,2,3,4])\n",
    "\n",
    "max_signal = -1\n",
    "for perm in list(perms):\n",
    "    signal = 0\n",
    "    for setting in perm:\n",
    "        signal = intcode(setting, signal)\n",
    "    if max_signal < signal:\n",
    "        max_signal = signal\n",
    "print(max_signal)"
   ]
  },
  {
   "cell_type": "markdown",
   "metadata": {},
   "source": [
    "The first look at the problem made me feel that I need Concurrent Computing Paradigm elements to solve this problem, something like Deterministic Dataflow, or Multi-Agent Dataflow. Or even Active Objects, if I wanted Object-Oriented elements too.\n",
    "\n",
    "But closer look made me realize that the flow is still sequential! :(\n",
    "\n",
    "Although, we need to save the state of an Amp through different passes, only a single Amp actually executes at any given point. Since every Amp is an instance of the same blueprint this falls under the category to simple Object-Oriented Programming! Nothing Fancy :("
   ]
  },
  {
   "cell_type": "code",
   "execution_count": 41,
   "metadata": {},
   "outputs": [],
   "source": [
    "#Amplification Circuit part 2\n",
    "class Amp:\n",
    "    def __init__(self):\n",
    "        with open('input/7.txt', 'r') as f:\n",
    "            self.x = [int(y) for y in f.read().split(',')]\n",
    "        self.flag = True\n",
    "        self.p = 0\n",
    "    \n",
    "    def intcode(self, setting, signal):\n",
    "        while self.p<len(self.x):\n",
    "            ins = str(self.x[self.p]).zfill(5)\n",
    "            op = int(ins[-2:])\n",
    "            if op == 99:\n",
    "                return -1\n",
    "            elif op == 1:\n",
    "                self.x[self.x[self.p+3]] = (self.x[self.x[self.p+2]] if int(ins[1]) == 0 else self.x[self.p+2]) + (self.x[self.x[self.p+1]] if int(ins[2]) == 0 else self.x[self.p+1])\n",
    "                self.p += 4\n",
    "            elif op == 2:\n",
    "                self.x[self.x[self.p+3]] = (self.x[self.x[self.p+2]] if int(ins[1]) == 0 else self.x[self.p+2]) * (self.x[self.x[self.p+1]] if int(ins[2]) == 0 else self.x[self.p+1])\n",
    "                self.p += 4\n",
    "            elif op == 3:\n",
    "                if self.flag:\n",
    "                    self.x[self.x[self.p+1]] = setting\n",
    "                    self.flag = False\n",
    "                else:\n",
    "                    self.x[self.x[self.p+1]] = signal\n",
    "                self.p += 2\n",
    "            elif op == 4:\n",
    "                self.p += 2\n",
    "                return (self.x[self.x[self.p-1]] if int(ins[2]) == 0 else self.x[self.p-1])\n",
    "            elif op == 5:\n",
    "                self.p = (self.x[self.x[self.p+2]] if int(ins[1]) == 0 else self.x[self.p+2]) if (self.x[self.x[self.p+1]] if int(ins[2]) == 0 else self.x[self.p+1]) != 0 else self.p+3\n",
    "            elif op == 6:\n",
    "                self.p = (self.x[self.x[self.p+2]] if int(ins[1]) == 0 else self.x[self.p+2]) if (self.x[self.x[self.p+1]] if int(ins[2]) == 0 else self.x[self.p+1]) == 0 else self.p+3\n",
    "            elif op == 7:\n",
    "                self.x[self.x[self.p+3]] = 1 if (self.x[self.x[self.p+1]] if int(ins[2]) == 0 else self.x[self.p+1]) < (self.x[self.x[self.p+2]] if int(ins[1]) == 0 else self.x[self.p+2]) else 0\n",
    "                self.p += 4\n",
    "            elif op == 8:\n",
    "                self.x[self.x[self.p+3]] = 1 if (self.x[self.x[self.p+1]] if int(ins[2]) == 0 else self.x[self.p+1]) == (self.x[self.x[self.p+2]] if int(ins[1]) == 0 else self.x[self.p+2]) else 0\n",
    "                self.p += 4\n",
    "        return -1"
   ]
  },
  {
   "cell_type": "code",
   "execution_count": 42,
   "metadata": {},
   "outputs": [
    {
     "name": "stdout",
     "output_type": "stream",
     "text": [
      "21596786\n"
     ]
    }
   ],
   "source": [
    "from itertools import permutations\n",
    "\n",
    "perms =  permutations([5,6,7,8,9])\n",
    "\n",
    "max_signal = -1\n",
    "for perm in list(perms):\n",
    "    signal = 0\n",
    "    amps = []\n",
    "    for idx, setting in enumerate(perm):\n",
    "        amps.append(Amp())\n",
    "        signal = amps[idx].intcode(setting, signal)\n",
    "    idx = 0\n",
    "    while signal != -1:\n",
    "        buf = signal\n",
    "        signal = amps[idx].intcode(None, signal)\n",
    "        idx += 1\n",
    "        if idx == 5:\n",
    "            idx = 0\n",
    "    if max_signal < buf:\n",
    "        max_signal = buf\n",
    "print(max_signal)"
   ]
  },
  {
   "cell_type": "markdown",
   "metadata": {},
   "source": [
    "# Day 8"
   ]
  },
  {
   "cell_type": "code",
   "execution_count": 43,
   "metadata": {},
   "outputs": [],
   "source": [
    "#Space Image Format part 1\n",
    "import numpy as np\n",
    "from skimage import io\n",
    "from matplotlib import pyplot as plt"
   ]
  },
  {
   "cell_type": "code",
   "execution_count": 44,
   "metadata": {},
   "outputs": [],
   "source": [
    "with open('input/8.txt', 'r') as f:\n",
    "    x = [int(y) for y in f.read()]"
   ]
  },
  {
   "cell_type": "code",
   "execution_count": 45,
   "metadata": {},
   "outputs": [],
   "source": [
    "width = 25\n",
    "height = 6\n",
    "layers = len(x) // (width * height)"
   ]
  },
  {
   "cell_type": "code",
   "execution_count": 46,
   "metadata": {},
   "outputs": [],
   "source": [
    "x = np.transpose(np.array(x).reshape((width, height, layers), order='F'), (1, 0, 2))"
   ]
  },
  {
   "cell_type": "code",
   "execution_count": 47,
   "metadata": {},
   "outputs": [],
   "source": [
    "# min_layer = -1\n",
    "# min_value = width * height\n",
    "# for i in range(x.shape[-1]):\n",
    "#     unique, counts = np.unique(x[...,i], return_counts=True)\n",
    "#     ht = dict(zip(unique, counts))\n",
    "#     if min_value > ht[0]:\n",
    "#         min_value = ht[0]\n",
    "#         min_layer = i"
   ]
  },
  {
   "cell_type": "code",
   "execution_count": 48,
   "metadata": {},
   "outputs": [],
   "source": [
    "min_layer = np.argmax(np.count_nonzero(x, axis=1).sum(axis=0))"
   ]
  },
  {
   "cell_type": "code",
   "execution_count": 49,
   "metadata": {},
   "outputs": [],
   "source": [
    "layer = x[...,min_layer]"
   ]
  },
  {
   "cell_type": "code",
   "execution_count": 50,
   "metadata": {},
   "outputs": [],
   "source": [
    "unique, counts = np.unique(layer, return_counts=True)\n",
    "ht = dict(zip(unique, counts))"
   ]
  },
  {
   "cell_type": "code",
   "execution_count": 51,
   "metadata": {},
   "outputs": [
    {
     "name": "stdout",
     "output_type": "stream",
     "text": [
      "2064\n"
     ]
    }
   ],
   "source": [
    "print(ht[1] * ht[2])"
   ]
  },
  {
   "cell_type": "code",
   "execution_count": 52,
   "metadata": {},
   "outputs": [],
   "source": [
    "#Space Image Format part 2\n",
    "with open('input/8.txt', 'r') as f:\n",
    "    x = [int(y) for y in f.read()]\n",
    "width = 25\n",
    "height = 6\n",
    "layers = len(x) // (width * height)\n",
    "x = np.transpose(np.array(x).reshape((width, height, layers), order='F'), (1, 0, 2))"
   ]
  },
  {
   "cell_type": "code",
   "execution_count": 53,
   "metadata": {},
   "outputs": [],
   "source": [
    "image = np.ones((height, width), dtype=np.int32) * 2\n",
    "for k in range(x.shape[2]):\n",
    "    for j in range(x.shape[1]):\n",
    "        for i in range(x.shape[0]):\n",
    "            if image[i,j] == 2 and x[i,j,k] != 2:\n",
    "                image[i,j] = x[i,j,k]"
   ]
  },
  {
   "cell_type": "code",
   "execution_count": 54,
   "metadata": {},
   "outputs": [
    {
     "data": {
      "text/plain": [
       "'100100110010010111100110010100100101001000010100101100010010100100010010010101001111010010010001111010100100101001010000100101001010010011001111010010'"
      ]
     },
     "execution_count": 54,
     "metadata": {},
     "output_type": "execute_result"
    }
   ],
   "source": [
    "# I thought the message in the input format\n",
    "''.join(str(x) for x in list(image.flatten()))"
   ]
  },
  {
   "cell_type": "code",
   "execution_count": 55,
   "metadata": {},
   "outputs": [
    {
     "name": "stderr",
     "output_type": "stream",
     "text": [
      "/Users/sumeetgyanchandani/.pyenv/versions/jup/lib/python3.5/site-packages/skimage/io/_plugins/matplotlib_plugin.py:77: UserWarning: Low image data range; displaying image with stretched contrast.\n",
      "  warn(\"Low image data range; displaying image with \"\n"
     ]
    },
    {
     "data": {
      "image/png": "[encoded data removed]",
      "text/plain": [
       "<Figure size 432x288 with 2 Axes>"
      ]
     },
     "metadata": {
      "needs_background": "light"
     },
     "output_type": "display_data"
    }
   ],
   "source": [
    "# But you had to plot the image :)\n",
    "io.imshow(image)\n",
    "plt.show()"
   ]
  },
  {
   "cell_type": "markdown",
   "metadata": {},
   "source": [
    "# Day 9"
   ]
  },
  {
   "cell_type": "markdown",
   "metadata": {},
   "source": [
    "The things they are doing to this Intcode computer are getting very annoying. The code is getting super hairy!"
   ]
  },
  {
   "cell_type": "code",
   "execution_count": 56,
   "metadata": {},
   "outputs": [],
   "source": [
    "def insmode(x, p, r, ins, i):\n",
    "    if i == 0:\n",
    "        a = 3\n",
    "    elif i == 1:\n",
    "        a = 2\n",
    "    elif i == 2:\n",
    "        a = 1\n",
    "    \n",
    "    mode = int(ins[i])\n",
    "    \n",
    "    if mode == 0:\n",
    "        return x[x[p+a]]\n",
    "    elif mode == 1:\n",
    "        return x[p+a]\n",
    "    elif mode == 2:\n",
    "        return x[r+x[p+a]]"
   ]
  },
  {
   "cell_type": "code",
   "execution_count": 57,
   "metadata": {},
   "outputs": [
    {
     "name": "stdout",
     "output_type": "stream",
     "text": [
      "2\n",
      "47253\n"
     ]
    }
   ],
   "source": [
    "#Sensor Boost\n",
    "#01234\n",
    "#321\n",
    "with open('input/9.txt', 'r') as f:\n",
    "    x = [int(y) for y in f.read().split(',')]\n",
    "\n",
    "x.extend([0]*1000)\n",
    "p = 0\n",
    "r = 0\n",
    "while p<len(x):\n",
    "    ins = str(x[p]).zfill(5)\n",
    "    op = int(ins[-2:])\n",
    "    if op == 99:\n",
    "        break\n",
    "    elif op == 1:\n",
    "        if int(ins[0]) == 2:\n",
    "            x[r+x[p+3]] = insmode(x, p, r, ins, 1) + insmode(x, p, r, ins, 2)\n",
    "        else:\n",
    "            x[x[p+3]] = insmode(x, p, r, ins, 1) + insmode(x, p, r, ins, 2)\n",
    "        p += 4\n",
    "    elif op == 2:\n",
    "        if int(ins[0]) == 2:\n",
    "            x[r+x[p+3]] = insmode(x, p, r, ins, 1) * insmode(x, p, r, ins, 2)\n",
    "        else:\n",
    "            x[x[p+3]] = insmode(x, p, r, ins, 1) * insmode(x, p, r, ins, 2)\n",
    "        p += 4\n",
    "    elif op == 3:\n",
    "        if int(ins[2]) == 2:\n",
    "            x[r+x[p+1]] = int(input())\n",
    "        else:\n",
    "            x[x[p+1]] = int(input())\n",
    "        p += 2\n",
    "    elif op == 4:\n",
    "        print(insmode(x, p, r, ins, 2))\n",
    "        p += 2\n",
    "    elif op == 5:\n",
    "        p = insmode(x, p, r, ins, 1) if insmode(x, p, r, ins, 2) != 0 else p+3\n",
    "    elif op == 6:\n",
    "        p = insmode(x, p, r, ins, 1) if insmode(x, p, r, ins, 2) == 0 else p+3\n",
    "    elif op == 7:\n",
    "        if int(ins[0]) == 2:\n",
    "            x[r+x[p+3]] = 1 if insmode(x, p, r, ins, 2) < insmode(x, p, r, ins, 1) else 0\n",
    "        else:\n",
    "            x[x[p+3]] = 1 if insmode(x, p, r, ins, 2) < insmode(x, p, r, ins, 1) else 0\n",
    "        p += 4\n",
    "    elif op == 8:\n",
    "        if int(ins[0]) == 2:\n",
    "            x[r+x[p+3]] = 1 if insmode(x, p, r, ins, 2) == insmode(x, p, r, ins, 1) else 0\n",
    "        else:\n",
    "            x[x[p+3]] = 1 if insmode(x, p, r, ins, 2) == insmode(x, p, r, ins, 1) else 0\n",
    "        p += 4\n",
    "    elif op == 9:\n",
    "        r += insmode(x, p, r, ins, 2)\n",
    "        p += 2\n",
    "    else:\n",
    "        break"
   ]
  },
  {
   "cell_type": "code",
   "execution_count": null,
   "metadata": {},
   "outputs": [],
   "source": []
  }
 ],
 "metadata": {
  "kernelspec": {
   "display_name": "Python 3",
   "language": "python",
   "name": "python3"
  },
  "language_info": {
   "codemirror_mode": {
    "name": "ipython",
    "version": 3
   },
   "file_extension": ".py",
   "mimetype": "text/x-python",
   "name": "python",
   "nbconvert_exporter": "python",
   "pygments_lexer": "ipython3",
   "version": "3.5.0"
  }
 },
 "nbformat": 4,
 "nbformat_minor": 2
}
